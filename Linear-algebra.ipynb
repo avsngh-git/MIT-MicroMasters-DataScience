{
 "cells": [
  {
   "cell_type": "code",
   "execution_count": 5,
   "metadata": {},
   "outputs": [],
   "source": [
    "import numpy as np\n",
    "import math"
   ]
  },
  {
   "cell_type": "code",
   "execution_count": 3,
   "metadata": {},
   "outputs": [
    {
     "data": {
      "text/plain": [
       "0.5"
      ]
     },
     "execution_count": 3,
     "metadata": {},
     "output_type": "execute_result"
    }
   ],
   "source": [
    "x=np.array([0.4, 0.3])\n",
    "mag = np.sqrt(x.dot(x))\n",
    "mag"
   ]
  },
  {
   "cell_type": "code",
   "execution_count": 4,
   "metadata": {},
   "outputs": [
    {
     "data": {
      "text/plain": [
       "0.25"
      ]
     },
     "execution_count": 4,
     "metadata": {},
     "output_type": "execute_result"
    }
   ],
   "source": [
    "y=np.array([-0.15, 0.2])\n",
    "mag = np.sqrt(y.dot(y))\n",
    "mag"
   ]
  },
  {
   "cell_type": "markdown",
   "metadata": {},
   "source": [
    "The angle between two vectors (i.e., a and b) is found by using the formula θ = cos-1 [ (a · b) / (|a| |b|) ]."
   ]
  },
  {
   "cell_type": "code",
   "execution_count": 6,
   "metadata": {},
   "outputs": [],
   "source": [
    "def angle_of_vectors(x, y):\n",
    "    \n",
    "     dotProduct = np.dot(x, y)\n",
    "         \n",
    "     modOfVector = np.sqrt(x.dot(x))*np.sqrt(y.dot(y)) \n",
    "     angle = dotProduct/modOfVector\n",
    "     print(\"Cosθ =\",angle)\n",
    "     angleInDegree = math.degrees(math.acos(angle))\n",
    "     print(\"θ =\",angleInDegree,\"°\")\n",
    "     radians = angleInDegree*(math.pi/180)\n",
    "     return radians"
   ]
  },
  {
   "cell_type": "code",
   "execution_count": 7,
   "metadata": {},
   "outputs": [
    {
     "name": "stdout",
     "output_type": "stream",
     "text": [
      "Cosθ = 0.0\n",
      "θ = 90.0 °\n"
     ]
    },
    {
     "data": {
      "text/plain": [
       "1.5707963267948966"
      ]
     },
     "execution_count": 7,
     "metadata": {},
     "output_type": "execute_result"
    }
   ],
   "source": [
    "angle_of_vectors(x, y)"
   ]
  },
  {
   "cell_type": "markdown",
   "metadata": {},
   "source": [
    "[Vector Projection Formula](https://www.cuemath.com/geometry/projection-vector/)"
   ]
  },
  {
   "cell_type": "code",
   "execution_count": null,
   "metadata": {},
   "outputs": [],
   "source": []
  }
 ],
 "metadata": {
  "kernelspec": {
   "display_name": "mit",
   "language": "python",
   "name": "python3"
  },
  "language_info": {
   "codemirror_mode": {
    "name": "ipython",
    "version": 3
   },
   "file_extension": ".py",
   "mimetype": "text/x-python",
   "name": "python",
   "nbconvert_exporter": "python",
   "pygments_lexer": "ipython3",
   "version": "3.11.4"
  },
  "orig_nbformat": 4
 },
 "nbformat": 4,
 "nbformat_minor": 2
}
